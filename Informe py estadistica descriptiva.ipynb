{
  "nbformat": 4,
  "nbformat_minor": 0,
  "metadata": {
    "colab": {
      "provenance": [],
      "authorship_tag": "ABX9TyPPM788h9d1DRqWnYI3EYga",
      "include_colab_link": true
    },
    "kernelspec": {
      "name": "python3",
      "display_name": "Python 3"
    },
    "language_info": {
      "name": "python"
    }
  },
  "cells": [
    {
      "cell_type": "markdown",
      "metadata": {
        "id": "view-in-github",
        "colab_type": "text"
      },
      "source": [
        "<a href=\"https://colab.research.google.com/github/ItaloAndress/ItaloAndress/blob/main/Informe%20py%20estadistica%20descriptiva.ipynb\" target=\"_parent\"><img src=\"https://colab.research.google.com/assets/colab-badge.svg\" alt=\"Open In Colab\"/></a>"
      ]
    },
    {
      "cell_type": "markdown",
      "source": [
        "\n",
        "###TAREA_1 = INGENIERÍA PARA EL PROCESAMIENTO MASIVO DE DATOS\n",
        "### FECHA DE ENTREGA 16/09/2024 (PUNTUACIÓN 15%)\n",
        "### REALIZAR UN INFORME USANDO PYSPARK DE ESTADISTICA DESCRIPTIVA"
      ],
      "metadata": {
        "id": "SbFUKo2l3GDu"
      }
    },
    {
      "cell_type": "code",
      "source": [
        "!pip install pyspark\n",
        "# El comando '!pip install pyspark' se utiliza para instalar la librería PySpark en el entorno de Python.\n",
        "# '!pip' indica que estamos ejecutando un comando de sistema desde un entorno de Jupyter Notebook o similar.\n",
        "# 'install pyspark' es el comando que le dice a pip (el gestor de paquetes de Python) que instale la librería PySpark."
      ],
      "metadata": {
        "colab": {
          "base_uri": "https://localhost:8080/"
        },
        "id": "ffCXtZNH3FAo",
        "outputId": "255dfbca-2339-4c28-a134-2d0437a704de"
      },
      "execution_count": 1,
      "outputs": [
        {
          "output_type": "stream",
          "name": "stdout",
          "text": [
            "Collecting pyspark\n",
            "  Downloading pyspark-3.5.2.tar.gz (317.3 MB)\n",
            "\u001b[2K     \u001b[90m━━━━━━━━━━━━━━━━━━━━━━━━━━━━━━━━━━━━━━━━\u001b[0m \u001b[32m317.3/317.3 MB\u001b[0m \u001b[31m3.3 MB/s\u001b[0m eta \u001b[36m0:00:00\u001b[0m\n",
            "\u001b[?25h  Preparing metadata (setup.py) ... \u001b[?25l\u001b[?25hdone\n",
            "Requirement already satisfied: py4j==0.10.9.7 in /usr/local/lib/python3.10/dist-packages (from pyspark) (0.10.9.7)\n",
            "Building wheels for collected packages: pyspark\n",
            "  Building wheel for pyspark (setup.py) ... \u001b[?25l\u001b[?25hdone\n",
            "  Created wheel for pyspark: filename=pyspark-3.5.2-py2.py3-none-any.whl size=317812365 sha256=9c7beb6e954101b7fe3726ad65124ec03b6278891661c787b93c09b7677c61bc\n",
            "  Stored in directory: /root/.cache/pip/wheels/34/34/bd/03944534c44b677cd5859f248090daa9fb27b3c8f8e5f49574\n",
            "Successfully built pyspark\n",
            "Installing collected packages: pyspark\n",
            "Successfully installed pyspark-3.5.2\n"
          ]
        }
      ]
    },
    {
      "cell_type": "code",
      "source": [
        "import pandas as pd\n",
        "import numpy as np\n",
        "import matplotlib.pyplot as plt\n",
        "import matplotlib.pyplot as plt\n",
        "import seaborn as sns\n",
        "# librerias importadas\n",
        "# 'as' se usa como apodo y sirve para acortar la el codigo"
      ],
      "metadata": {
        "id": "sSE5AhNbD7yU"
      },
      "execution_count": 24,
      "outputs": []
    },
    {
      "cell_type": "code",
      "source": [
        "from google.colab import files\n",
        "uploaded = files.upload()\n",
        "# Este código crea una sesión de Spark, lee un archivo CSV, genera un DataFrame (df), y luego calcula y muestra la media y la desviación estándar de la duración de las canciones en el archivo."
      ],
      "metadata": {
        "colab": {
          "base_uri": "https://localhost:8080/",
          "height": 73
        },
        "id": "UhIqRADTEp88",
        "outputId": "19611681-5dc9-4a52-d372-0bf173531d4f"
      },
      "execution_count": 30,
      "outputs": [
        {
          "output_type": "display_data",
          "data": {
            "text/plain": [
              "<IPython.core.display.HTML object>"
            ],
            "text/html": [
              "\n",
              "     <input type=\"file\" id=\"files-964d9f77-f14b-4f83-a82d-96c996734486\" name=\"files[]\" multiple disabled\n",
              "        style=\"border:none\" />\n",
              "     <output id=\"result-964d9f77-f14b-4f83-a82d-96c996734486\">\n",
              "      Upload widget is only available when the cell has been executed in the\n",
              "      current browser session. Please rerun this cell to enable.\n",
              "      </output>\n",
              "      <script>// Copyright 2017 Google LLC\n",
              "//\n",
              "// Licensed under the Apache License, Version 2.0 (the \"License\");\n",
              "// you may not use this file except in compliance with the License.\n",
              "// You may obtain a copy of the License at\n",
              "//\n",
              "//      http://www.apache.org/licenses/LICENSE-2.0\n",
              "//\n",
              "// Unless required by applicable law or agreed to in writing, software\n",
              "// distributed under the License is distributed on an \"AS IS\" BASIS,\n",
              "// WITHOUT WARRANTIES OR CONDITIONS OF ANY KIND, either express or implied.\n",
              "// See the License for the specific language governing permissions and\n",
              "// limitations under the License.\n",
              "\n",
              "/**\n",
              " * @fileoverview Helpers for google.colab Python module.\n",
              " */\n",
              "(function(scope) {\n",
              "function span(text, styleAttributes = {}) {\n",
              "  const element = document.createElement('span');\n",
              "  element.textContent = text;\n",
              "  for (const key of Object.keys(styleAttributes)) {\n",
              "    element.style[key] = styleAttributes[key];\n",
              "  }\n",
              "  return element;\n",
              "}\n",
              "\n",
              "// Max number of bytes which will be uploaded at a time.\n",
              "const MAX_PAYLOAD_SIZE = 100 * 1024;\n",
              "\n",
              "function _uploadFiles(inputId, outputId) {\n",
              "  const steps = uploadFilesStep(inputId, outputId);\n",
              "  const outputElement = document.getElementById(outputId);\n",
              "  // Cache steps on the outputElement to make it available for the next call\n",
              "  // to uploadFilesContinue from Python.\n",
              "  outputElement.steps = steps;\n",
              "\n",
              "  return _uploadFilesContinue(outputId);\n",
              "}\n",
              "\n",
              "// This is roughly an async generator (not supported in the browser yet),\n",
              "// where there are multiple asynchronous steps and the Python side is going\n",
              "// to poll for completion of each step.\n",
              "// This uses a Promise to block the python side on completion of each step,\n",
              "// then passes the result of the previous step as the input to the next step.\n",
              "function _uploadFilesContinue(outputId) {\n",
              "  const outputElement = document.getElementById(outputId);\n",
              "  const steps = outputElement.steps;\n",
              "\n",
              "  const next = steps.next(outputElement.lastPromiseValue);\n",
              "  return Promise.resolve(next.value.promise).then((value) => {\n",
              "    // Cache the last promise value to make it available to the next\n",
              "    // step of the generator.\n",
              "    outputElement.lastPromiseValue = value;\n",
              "    return next.value.response;\n",
              "  });\n",
              "}\n",
              "\n",
              "/**\n",
              " * Generator function which is called between each async step of the upload\n",
              " * process.\n",
              " * @param {string} inputId Element ID of the input file picker element.\n",
              " * @param {string} outputId Element ID of the output display.\n",
              " * @return {!Iterable<!Object>} Iterable of next steps.\n",
              " */\n",
              "function* uploadFilesStep(inputId, outputId) {\n",
              "  const inputElement = document.getElementById(inputId);\n",
              "  inputElement.disabled = false;\n",
              "\n",
              "  const outputElement = document.getElementById(outputId);\n",
              "  outputElement.innerHTML = '';\n",
              "\n",
              "  const pickedPromise = new Promise((resolve) => {\n",
              "    inputElement.addEventListener('change', (e) => {\n",
              "      resolve(e.target.files);\n",
              "    });\n",
              "  });\n",
              "\n",
              "  const cancel = document.createElement('button');\n",
              "  inputElement.parentElement.appendChild(cancel);\n",
              "  cancel.textContent = 'Cancel upload';\n",
              "  const cancelPromise = new Promise((resolve) => {\n",
              "    cancel.onclick = () => {\n",
              "      resolve(null);\n",
              "    };\n",
              "  });\n",
              "\n",
              "  // Wait for the user to pick the files.\n",
              "  const files = yield {\n",
              "    promise: Promise.race([pickedPromise, cancelPromise]),\n",
              "    response: {\n",
              "      action: 'starting',\n",
              "    }\n",
              "  };\n",
              "\n",
              "  cancel.remove();\n",
              "\n",
              "  // Disable the input element since further picks are not allowed.\n",
              "  inputElement.disabled = true;\n",
              "\n",
              "  if (!files) {\n",
              "    return {\n",
              "      response: {\n",
              "        action: 'complete',\n",
              "      }\n",
              "    };\n",
              "  }\n",
              "\n",
              "  for (const file of files) {\n",
              "    const li = document.createElement('li');\n",
              "    li.append(span(file.name, {fontWeight: 'bold'}));\n",
              "    li.append(span(\n",
              "        `(${file.type || 'n/a'}) - ${file.size} bytes, ` +\n",
              "        `last modified: ${\n",
              "            file.lastModifiedDate ? file.lastModifiedDate.toLocaleDateString() :\n",
              "                                    'n/a'} - `));\n",
              "    const percent = span('0% done');\n",
              "    li.appendChild(percent);\n",
              "\n",
              "    outputElement.appendChild(li);\n",
              "\n",
              "    const fileDataPromise = new Promise((resolve) => {\n",
              "      const reader = new FileReader();\n",
              "      reader.onload = (e) => {\n",
              "        resolve(e.target.result);\n",
              "      };\n",
              "      reader.readAsArrayBuffer(file);\n",
              "    });\n",
              "    // Wait for the data to be ready.\n",
              "    let fileData = yield {\n",
              "      promise: fileDataPromise,\n",
              "      response: {\n",
              "        action: 'continue',\n",
              "      }\n",
              "    };\n",
              "\n",
              "    // Use a chunked sending to avoid message size limits. See b/62115660.\n",
              "    let position = 0;\n",
              "    do {\n",
              "      const length = Math.min(fileData.byteLength - position, MAX_PAYLOAD_SIZE);\n",
              "      const chunk = new Uint8Array(fileData, position, length);\n",
              "      position += length;\n",
              "\n",
              "      const base64 = btoa(String.fromCharCode.apply(null, chunk));\n",
              "      yield {\n",
              "        response: {\n",
              "          action: 'append',\n",
              "          file: file.name,\n",
              "          data: base64,\n",
              "        },\n",
              "      };\n",
              "\n",
              "      let percentDone = fileData.byteLength === 0 ?\n",
              "          100 :\n",
              "          Math.round((position / fileData.byteLength) * 100);\n",
              "      percent.textContent = `${percentDone}% done`;\n",
              "\n",
              "    } while (position < fileData.byteLength);\n",
              "  }\n",
              "\n",
              "  // All done.\n",
              "  yield {\n",
              "    response: {\n",
              "      action: 'complete',\n",
              "    }\n",
              "  };\n",
              "}\n",
              "\n",
              "scope.google = scope.google || {};\n",
              "scope.google.colab = scope.google.colab || {};\n",
              "scope.google.colab._files = {\n",
              "  _uploadFiles,\n",
              "  _uploadFilesContinue,\n",
              "};\n",
              "})(self);\n",
              "</script> "
            ]
          },
          "metadata": {}
        },
        {
          "output_type": "stream",
          "name": "stdout",
          "text": [
            "Saving WorldHits.csv to WorldHits (3).csv\n"
          ]
        }
      ]
    },
    {
      "cell_type": "code",
      "source": [
        "from pyspark.sql import SparkSession\n",
        "from pyspark.sql.functions import mean, stddev\n",
        "# librerias importadas\n",
        "\n",
        "spark = SparkSession.builder.appName(\"EstadisticaDescriptiva\").getOrCreate()\n",
        "df = spark.read.csv(\"WorldHits.csv\", header=True, inferSchema=True)\n",
        "# se crea una sesión de spark, esto es necesario para trabajar con Pyspark\n",
        "\n",
        "df.select(mean(\"Duration\").alias(\"Media\"), stddev(\"Duration\").alias(\"Desviación Estándar\")).show()\n",
        "# Seleccionamos las columnas calculadas de la media y la desviación estándar de la columna \"Duration\".\n",
        "# 'mean(\"Duration\")' calcula la media de la columna \"Duration\".\n",
        "# 'stddev(\"Duration\")' calcula la desviación estándar de la columna \"Duration\".\n",
        "# 'alias(\"Media\")' y 'alias(\"Desviación Estándar\")' renombra las columnas resultantes para que sean más legibles.\n"
      ],
      "metadata": {
        "colab": {
          "base_uri": "https://localhost:8080/"
        },
        "id": "aM0-TRlPGDfK",
        "outputId": "e7186894-3630-49bf-b2bf-2721d99783bb"
      },
      "execution_count": 38,
      "outputs": [
        {
          "output_type": "stream",
          "name": "stdout",
          "text": [
            "+------------------+-------------------+\n",
            "|             Media|Desviación Estándar|\n",
            "+------------------+-------------------+\n",
            "|333706.15030674846| 268048.55478058814|\n",
            "+------------------+-------------------+\n",
            "\n"
          ]
        }
      ]
    },
    {
      "cell_type": "code",
      "source": [
        "from pyspark.sql.functions import expr\n",
        "# libreria importada\n",
        "\n",
        "df.approxQuantile(\"Duration\", [0.5], 0.01)\n",
        "# Calculamos la mediana (percentil 50) de la columna \"Duration\" usando approxQuantile.\n",
        "# 'approxQuantile' es una función que calcula los percentiles aproximados de una columna.\n",
        "# El primer argumento es el nombre de la columna (\"Duration\").\n",
        "# El segundo argumento es una lista de percentiles que queremos calcular ([0.5] para la mediana).\n",
        "# El tercer argumento es el error relativo permitido (0.01 en este caso)."
      ],
      "metadata": {
        "colab": {
          "base_uri": "https://localhost:8080/"
        },
        "id": "eSgOXkW1GUHa",
        "outputId": "3c9d9469-ce3e-4555-be40-fa556e004617"
      },
      "execution_count": 35,
      "outputs": [
        {
          "output_type": "execute_result",
          "data": {
            "text/plain": [
              "[262133.0]"
            ]
          },
          "metadata": {},
          "execution_count": 35
        }
      ]
    },
    {
      "cell_type": "code",
      "source": [
        "percentiles = df.approxQuantile(\"Duration\", [0.25, 0.5, 0.75], 0.01)\n",
        "print(f\"Percentiles: {percentiles}\")\n",
        "# Calculamos los percentiles 25, 50 (mediana) y 75 de la columna \"Duration\" usando approxQuantile.\n",
        "# 'approxQuantile' es una función que calcula los percentiles aproximados de una columna.\n",
        "# El primer argumento es el nombre de la columna (\"Duration\").\n",
        "# El segundo argumento es una lista de percentiles que queremos calcular ([0.25, 0.5, 0.75]).\n",
        "# El tercer argumento es el error relativo permitido (0.01 en este caso)."
      ],
      "metadata": {
        "colab": {
          "base_uri": "https://localhost:8080/"
        },
        "id": "FqlmVEALGZIS",
        "outputId": "d4d0ecd9-1c56-41f0-8923-05b7c96f675f"
      },
      "execution_count": 36,
      "outputs": [
        {
          "output_type": "stream",
          "name": "stdout",
          "text": [
            "Percentiles: [211266.0, 262133.0, 345756.0]\n"
          ]
        }
      ]
    },
    {
      "cell_type": "code",
      "source": [
        "from pyspark.sql.functions import corr\n",
        "# se importa la funcion corr de PyPark\n",
        "# 'corr' Calcula la correlación de Pearson entre las columnas y la correlación de Pearson mide la relación lineal entre dos variables.\n",
        "\n",
        "df.select(corr(\"Duration\", \"Popularity\").alias(\"Correlación\")).show()\n",
        "# Seleccionamos la correlación entre las columnas \"Duration\" y \"Popularity\".\n",
        "# 'corr' Calcula la correlación de Pearson entre las columnas y la correlación de Pearson mide la relación lineal entre dos variables."
      ],
      "metadata": {
        "colab": {
          "base_uri": "https://localhost:8080/"
        },
        "id": "Su2bHBlsGa9h",
        "outputId": "eb1619fb-f1ac-42d6-d15b-54f002c2eaef"
      },
      "execution_count": 37,
      "outputs": [
        {
          "output_type": "stream",
          "name": "stdout",
          "text": [
            "+--------------------+\n",
            "|         Correlación|\n",
            "+--------------------+\n",
            "|-0.13266894322118775|\n",
            "+--------------------+\n",
            "\n"
          ]
        }
      ]
    },
    {
      "cell_type": "code",
      "source": [
        "import matplotlib.pyplot as plt\n",
        "# se importa libreria para creacion de graficos\n",
        "\n",
        "from pyspark.sql import SparkSession\n",
        "# Importamos SparkSession de PySpark para crear una sesión de Spar\n",
        "\n",
        "spark = SparkSession.builder.appName(\"EstadisticaDescriptiva\").getOrCreate()\n",
        "# Creamos una sesión de Spark\n",
        "\n",
        "df = spark.read.csv(\"WorldHits.csv\", header=True, inferSchema=True)\n",
        "# Leemos el archivo CSV en un DataFrame de Spark\n",
        "# 'header=True' indica que la primera fila del archivo CSV contiene los nombres de las columnas\n",
        "# 'inferSchema=True' permite a Spark inferir automáticamente el tipo de datos de cada columna\n",
        "\n",
        "hits_per_year = df.groupBy(\"Year\").count().orderBy(\"Year\").collect()\n",
        "# Agrupamos por año y contamos el número de éxitos por año\n",
        "# 'groupBy(\"Year\")' agrupa los datos por la columna \"Year\"\n",
        "# 'count()' cuenta el número de registros en cada grupo\n",
        "# 'orderBy(\"Year\")' ordena los resultados por año\n",
        "# 'collect()' recoge los resultados en una lista de filas\n",
        "\n",
        "years = [row[\"Year\"] for row in hits_per_year]\n",
        "counts = [row[\"count\"] for row in hits_per_year]\n",
        "# Extraemos los datos para el gráfico\n",
        "# 'years' contiene los años\n",
        "# 'counts' contiene el número de éxitos por año\n",
        "\n",
        "plt.figure(figsize=(10, 6))# Creamos el gráfico, 'plt.figure(figsize=(10, 6))' crea una figura de tamaño 10x6 pulgadas\n",
        "plt.plot(years, counts, marker='o') ## 'plt.plot(years, counts, marker='o')' dibuja una línea con marcadores en los puntos de datos\n",
        "plt.title(\"Grandes Éxitos a Través de los Años\") # 'plt.title' establece el título del gráfico\n",
        "plt.xlabel(\"Año\") # 'plt.xlabel' establece la etiqueta del eje x\n",
        "plt.ylabel(\"Número de Éxitos\") # 'plt.ylabel' establece la etiqueta del eje y\n",
        "plt.grid(True) # 'plt.grid(True)' muestra una cuadrícula en el gráfico\n",
        "\n",
        "for i, txt in enumerate(counts):\n",
        "    plt.annotate(txt, (years[i], counts[i]), textcoords=\"offset points\", xytext=(0,10), ha='center')\n",
        "# Agregamos etiquetas en los picos\n",
        "# 'enumerate(counts)' itera sobre los índices y valores de 'counts'\n",
        "# 'plt.annotate' agrega una anotación en el gráfico\n",
        "\n",
        "plt.show()\n",
        "# Mostramos el gráfico"
      ],
      "metadata": {
        "colab": {
          "base_uri": "https://localhost:8080/",
          "height": 564
        },
        "id": "z6MhZq-yN9w3",
        "outputId": "3f282574-5edd-4717-b4bf-27ef3b7f0cb3"
      },
      "execution_count": 40,
      "outputs": [
        {
          "output_type": "display_data",
          "data": {
            "text/plain": [
              "<Figure size 1000x600 with 1 Axes>"
            ],
            "image/png": "[encoded data removed]"
          },
          "metadata": {}
        }
      ]
    }
  ]
}